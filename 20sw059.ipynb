{
  "nbformat": 4,
  "nbformat_minor": 0,
  "metadata": {
    "colab": {
      "provenance": [],
      "toc_visible": true,
      "authorship_tag": "ABX9TyNtvLQsnZa9ZUaHhienSVNZ",
      "include_colab_link": true
    },
    "kernelspec": {
      "name": "python3",
      "display_name": "Python 3"
    },
    "language_info": {
      "name": "python"
    }
  },
  "cells": [
    {
      "cell_type": "markdown",
      "metadata": {
        "id": "view-in-github",
        "colab_type": "text"
      },
      "source": [
        "<a href=\"https://colab.research.google.com/github/Mahnoorlaghariii/DSA20SW059-lab4/blob/main/20sw059.ipynb\" target=\"_parent\"><img src=\"https://colab.research.google.com/assets/colab-badge.svg\" alt=\"Open In Colab\"/></a>"
      ]
    },
    {
      "cell_type": "code",
      "execution_count": 1,
      "metadata": {
        "colab": {
          "base_uri": "https://localhost:8080/"
        },
        "id": "ljWhhNmzVXzy",
        "outputId": "6a0e95f9-7358-4cb6-9bf6-19df8d0faf5d"
      },
      "outputs": [
        {
          "output_type": "stream",
          "name": "stdout",
          "text": [
            "[[ 2  4  6  8]\n",
            " [10 12 14 16]\n",
            " [18 20 22 24]\n",
            " [26 28 30 32]]\n"
          ]
        }
      ],
      "source": [
        "import numpy as np\n",
        "\n",
        "X = np.arange(2, 33, 2).reshape(4, 4)\n",
        "\n",
        "print(X)\n"
      ]
    },
    {
      "cell_type": "code",
      "source": [
        "import numpy as np\n",
        "\n",
        "# Create a 5 x 5 ndarray with consecutive integers from 1 to 25 (inclusive).\n",
        "X = np.arange(1, 26).reshape(5, 5)\n",
        "\n",
        "# Use Boolean indexing to pick out only the odd numbers in the array.\n",
        "Y = X[X % 2 != 0]\n",
        "\n",
        "print(\"Original Array X:\")\n",
        "print(X)\n",
        "\n",
        "print(\"\\nOdd Numbers in Array X:\")\n",
        "print(Y)\n"
      ],
      "metadata": {
        "colab": {
          "base_uri": "https://localhost:8080/"
        },
        "id": "XznTfFLWVoIJ",
        "outputId": "4814a318-90e9-4be7-c14f-c57435302068"
      },
      "execution_count": 2,
      "outputs": [
        {
          "output_type": "stream",
          "name": "stdout",
          "text": [
            "Original Array X:\n",
            "[[ 1  2  3  4  5]\n",
            " [ 6  7  8  9 10]\n",
            " [11 12 13 14 15]\n",
            " [16 17 18 19 20]\n",
            " [21 22 23 24 25]]\n",
            "\n",
            "Odd Numbers in Array X:\n",
            "[ 1  3  5  7  9 11 13 15 17 19 21 23 25]\n"
          ]
        }
      ]
    },
    {
      "cell_type": "code",
      "source": [
        "import numpy as np\n",
        "\n",
        "# Create a 4 x 4 ndarray with columns of consecutive numbers using broadcasting.\n",
        "X = np.arange(1, 5)[:, np.newaxis] * np.ones((1, 4))\n",
        "\n",
        "print(X)\n"
      ],
      "metadata": {
        "colab": {
          "base_uri": "https://localhost:8080/"
        },
        "id": "pNNfq66DWDFr",
        "outputId": "5aed5d85-bb68-4903-cc11-02e553cd8c0c"
      },
      "execution_count": 4,
      "outputs": [
        {
          "output_type": "stream",
          "name": "stdout",
          "text": [
            "[[1. 1. 1. 1.]\n",
            " [2. 2. 2. 2.]\n",
            " [3. 3. 3. 3.]\n",
            " [4. 4. 4. 4.]]\n"
          ]
        }
      ]
    },
    {
      "cell_type": "markdown",
      "source": [
        "# New Section"
      ],
      "metadata": {
        "id": "1iJrvUZ8cW_V"
      }
    },
    {
      "cell_type": "code",
      "source": [
        "#task-4\n",
        "from google.colab import drive\n",
        "drive.mount('/NumPy.ipnyb')\n",
        "\n",
        "import numpy as np\n",
        "\n",
        "# Create a 1000x20 ndarray with random integers in the range [0, 5001)\n",
        "X = np.random.randint(0, 5001, size=(1000, 20))\n",
        "# Print the shape of X\n",
        "print(X.shape)\n",
        "\n",
        "# Calculate the average of the values in each column of X\n",
        "ave_cols = np.mean(X, axis=0)\n",
        "\n",
        "# Calculate the standard deviation of the values in each column of X\n",
        "std_cols = np.std(X, axis=0)\n",
        "\n",
        "\n",
        "print(\"Shape of ave_cols:\", ave_cols.shape)\n",
        "print(\"Shape of std_cols:\", std_cols.shape)\n",
        "\n",
        "# Mean normalize X\n",
        "X_norm = (X - ave_cols) / std_cols\n",
        "\n",
        "print(\"Mean normalized X:\")\n",
        "print(X_norm)\n",
        "\n",
        "# Print the average of all the values of X_norm\n",
        "ave_all_values = np.mean(X_norm)\n",
        "print(\"Average of all values in X_norm:\", ave_all_values)\n",
        "\n",
        "# Print the average of the minimum value in each column of X_norm\n",
        "ave_min_values = np.mean(np.min(X_norm, axis=0))\n",
        "print(\"Average of minimum values in each column of X_norm:\", ave_min_values)\n",
        "\n",
        "# Print the average of the maximum value in each column of X_norm\n",
        "ave_max_values = np.mean(np.max(X_norm, axis=0))\n",
        "print(\"Average of maximum values in each column of X_norm:\", ave_max_values)\n",
        "\n",
        "# We create a random permutation of integers 0 to 4\n",
        "np.random.permutation(5)\n",
        "\n",
        "# Create a random permutation of row indices of X_norm\n",
        "row_indices = np.random.permutation(X_norm.shape[0])\n",
        "\n",
        "print(\"Random permutation of row indices:\", row_indices)\n",
        "\n",
        "\n",
        "# Define the ratios for training, cross-validation, and test sets\n",
        "train_ratio = 0.6\n",
        "cross_val_ratio = 0.2\n",
        "test_ratio = 0.2\n",
        "\n",
        "# Calculate the sizes of each set based on the ratios\n",
        "num_rows = X_norm.shape[0]\n",
        "num_train = int(train_ratio * num_rows)\n",
        "num_cross_val = int(cross_val_ratio * num_rows)\n",
        "num_test = int(test_ratio * num_rows)\n",
        "\n",
        "# Use row_indices to split the data into sets\n",
        "X_train = X_norm[row_indices[:num_train]]\n",
        "X_crossVal = X_norm[row_indices[num_train:num_train + num_cross_val]]\n",
        "X_test = X_norm[row_indices[num_train + num_cross_val:]]\n",
        "\n",
        "print(\"X_train shape:\", X_train.shape)\n",
        "print(\"X_crossVal shape:\", X_crossVal.shape)\n",
        "print(\"X_test shape:\", X_test.shape)"
      ],
      "metadata": {
        "colab": {
          "base_uri": "https://localhost:8080/"
        },
        "id": "5YzGC_rUcn0r",
        "outputId": "91edbe0a-3154-44a2-f6f7-df9526920474"
      },
      "execution_count": 5,
      "outputs": [
        {
          "output_type": "stream",
          "name": "stdout",
          "text": [
            "Mounted at /NumPy.ipnyb\n",
            "(1000, 20)\n",
            "Shape of ave_cols: (20,)\n",
            "Shape of std_cols: (20,)\n",
            "Mean normalized X:\n",
            "[[-1.19571831  0.30516558  1.61690529 ...  0.9161687  -0.82546884\n",
            "   0.35972101]\n",
            " [-1.25538037  1.68200191  0.60514671 ...  0.26613961  0.41736487\n",
            "  -1.01404184]\n",
            " [-1.14771435  1.43455206  0.19281803 ...  0.85062523 -1.13882384\n",
            "   1.48018553]\n",
            " ...\n",
            " [-0.92209573  0.42783303  0.51124309 ...  0.72291681  0.44630081\n",
            "  -0.49706408]\n",
            " [ 1.29294416 -1.25708188  1.17986512 ... -0.52916625 -0.51987713\n",
            "   0.09188916]\n",
            " [ 0.12576215 -1.4192285   0.09962045 ...  0.06613066 -0.80006167\n",
            "   0.63239737]]\n",
            "Average of all values in X_norm: -2.9842794901924206e-17\n",
            "Average of minimum values in each column of X_norm: -1.7307039469474415\n",
            "Average of maximum values in each column of X_norm: 1.7190376151213933\n",
            "Random permutation of row indices: [911 972 203 289 765 600 521 710  18 645 498 852 413 173 683 209 277 325\n",
            " 572 735 356 436 931 877 905 473 826  15  96 347 480 526 129 204 912 869\n",
            " 977 902  34 256 973 316 474 850 380 435  13 820 292 251 197 981 586 702\n",
            " 601 141 310  72  91 950 988 687 224 218 913 432 239  67 608 233  93 378\n",
            " 510 847 387 106 381 585 775 703  59 269 263 423 374 128 549 201 699 700\n",
            " 322 349 666 117 726 693 273 504 249 580 583 984 720 442 345 530 794 252\n",
            " 656 331 305 540 743 547 118 817  70 122 552   9 927 594 762  37  75 915\n",
            " 781 167 779 545 892 670 231 286 340  60 339 599 853 329 828 708 917 627\n",
            " 731 104 843 840 684 363 597 183 629 429 465 275 831 885 808 691 123 916\n",
            " 923  30 244 797 430 829 704 628 282 315  78 715 394 634 868 655 355 293\n",
            " 242 346 668 603 136 577 653 416 409 313 763 334 799 451 357 569 685 570\n",
            " 937 531 525 392 742 553 956 290 485 774 420 336 998 851 119 560 448  12\n",
            "  61 573 967 192 866 753 976 834 410 401 188 450 484 191 899  24  87 832\n",
            " 524 622 805  21 296 830 718 550 567  27 110 802 265 842 999 372 228 897\n",
            " 445 428 604 978 959 281 178 506 706 499 379 500 472 591 483 938 636 175\n",
            "  86 722 332 807 424 370 815 153 253  66 859 556 638 398 376 571 589 581\n",
            " 744 854 633  38 314 452 291 453 798 279 137 127 819 729 385 890 179 280\n",
            " 579 619 338  50  82 804 705 212 741  20 919  81 426 156 818 492 276 768\n",
            " 105 205 730 871 694 935  29 308  73 170 734 983 867 980 176 375 711   8\n",
            "  25 939 612  65 659 639 439 942 617 543 770 399  95 695 758 528  89 397\n",
            " 283 541 914 131 509 186 462 943 304  16 557   2 311 213 616  33 940 503\n",
            "  68 688 891 760 785 874 944 384 991 648 582 415 102  11 865 382 671 120\n",
            " 736  80 434 908 140 323 739 361  19 755 318 663  43 887 262 154 623 190\n",
            " 461 388 403 588  77 910  54 555 152 121 236 116 327 482 288  35 527 748\n",
            " 115 806 783 686 533 576 337 126 207  94  23  74 712 469 446 466 257 274\n",
            " 255 680 898 624 773 144 261 848 987 544 598 295   7 782 471 536 857  56\n",
            " 226 100 893 776 767   4 177  44 664 158 882 609 823 517 157 563 651 856\n",
            " 458 674 352 328 675  85 285 278 425 353 975 377 438 444 200 449 457 861\n",
            " 247 681 326 696 810 974 620 846 697 419  26 225 216 787 320 646  88 254\n",
            " 230 259 537 740 160 952 112 863 901 926 966 862 350  17 400 515 365 713\n",
            " 456  10 223 463 159 210 182 824 459 723 596 929 162 962 845 970 514  69\n",
            " 673 111 143 631  49 299 728 235 130 873 825 757 870 883 421  55 266 795\n",
            " 240 749 689 777 764 367  99 309  63 934 284 232 941 107 932 491 793 884\n",
            " 189 215 678 502 561 250 433 294 187 497 169 441 747 103 142 245 477 750\n",
            " 431 784 414 406 214 109 427 925 690 946 665 650 302 717 407 738 267 272\n",
            " 486 592 535 662 968 986 542 369  92 548  62  71 876 155 746 610 220 709\n",
            " 422 513 468 924 343 993 997 878 792 654 724 146 745 196  47 641  42 948\n",
            " 888 844 928 488 505  31 507 769 135 632 149 903 951 113  84 945 181 836\n",
            " 841 907 625 258 412 529  83 133 344 954 362 460 271 301 816 679 766 922\n",
            " 312 227 584 287 511 725 464 132 219 166 319 324 195 698 801 752 539 894\n",
            " 921  90 754 237 371 108 568 134 652 949 858 360 732 985 855 208 642  22\n",
            " 565 516 811  14 992 476 989 906 676  53 618 317 606 971 837 368 761 241\n",
            " 714 333 359 789 721 268 964 649 965 418 551 495 490 872 756 822   6 637\n",
            " 904 933  58 455  79 221 147 358 626 995 139 270 947 124 229 996 297 707\n",
            " 522 447 478 202 786 751 335 895 532 303 222 879 386 900 667 479  28 692\n",
            " 961  32 796 389 496 234 475 875 658 519 440 896 716 701 354 578  40 909\n",
            " 298 677 114 171 164 778 180 546 614 348 595 660 920 771 827 607 489 364\n",
            " 417 790 602 493 809 101  76 611 341 405 839 803 248 330 300 246 814 396\n",
            " 936 990  36 306 669  45 835 198 481 391 165 217 554 168 613 559 150 307\n",
            " 605 138 534 404 930 590 960 849 574 969 366 564 454 393 206 957 615 408\n",
            " 383 494 886 737 955 788 587 390 800 402 437 963 562 593  57 958   3 172\n",
            " 719 647 759  64 643 211 351 682 243 443 640  46 864 518 193  41 501 672\n",
            " 145 791 860 635 575 889 199 657 148 838 621 821 880 467 373   5   0 566\n",
            " 813 470  48 918 395 260 979 151 833 772 812 538  97 727 644 238 264  52\n",
            " 321 523 661 508 184  51 512  39 780 520 125 630 558 185 161  98 953 174\n",
            " 194 733 342 881 163 411 487 982 994   1]\n",
            "X_train shape: (600, 20)\n",
            "X_crossVal shape: (200, 20)\n",
            "X_test shape: (200, 20)\n"
          ]
        }
      ]
    }
  ]
}